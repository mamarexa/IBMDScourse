{
 "cells": [
  {
   "cell_type": "markdown",
   "metadata": {},
   "source": [
    "<center>\n",
    "    <img src=\"https://cf-courses-data.s3.us.cloud-object-storage.appdomain.cloud/IBMDeveloperSkillsNetwork-DS0105EN-SkillsNetwork/labs/Module2/images/SN_web_lightmode.png\" width=\"300\" alt=\"cognitiveclass.ai logo\">\n",
    "</center>\n"
   ]
  },
  {
   "cell_type": "markdown",
   "metadata": {},
   "source": [
    "# Data science IBM course\n"
   ]
  },
  {
   "cell_type": "markdown",
   "metadata": {},
   "source": [
    "This is an introduction of this Jupyter Notebook."
   ]
  },
  {
   "cell_type": "markdown",
   "metadata": {},
   "source": [
    "Programming languages for data science:\n",
    "+ Python\n",
    "+ R\n",
    "+ C++\n",
    "+ JavaScript\n",
    "+ SQL\n",
    "+ etc"
   ]
  },
  {
   "cell_type": "markdown",
   "metadata": {},
   "source": [
    "Data science libraries:\n",
    "+ PyTorch\n",
    "+ Scikit-learn\n",
    "+ TensorFlow\n",
    "+ Pandas\n",
    "+ Numpy\n",
    "+ etc"
   ]
  },
  {
   "cell_type": "markdown",
   "metadata": {},
   "source": [
    "Data science tools:\n",
    "Col1 |Col2 |Col3\n",
    "-----|-----|-----\n",
    "Apache Spark|PyCharm|MySQL\n",
    "Watson studio|R studio|Jupyter Notebook"
   ]
  },
  {
   "cell_type": "markdown",
   "metadata": {},
   "source": [
    "$5$ -- a number is an arithmetic expression\n",
    "<br>$(3 + 4)$ -- the  sum of numbers is an arithmetic expression\n",
    "<br>$(7 - 3)$ -- the difference  of two  numbers is an arithmetic expression\n",
    "<br>$(2 * 5)$ -- a product of two numbers is an arithmetic expression."
   ]
  },
  {
   "cell_type": "code",
   "execution_count": 1,
   "metadata": {},
   "outputs": [
    {
     "name": "stdout",
     "output_type": "stream",
     "text": [
      "17\n"
     ]
    }
   ],
   "source": [
    "a = 2\n",
    "b = 5\n",
    "c = 7\n",
    "print((a*b)+c)"
   ]
  },
  {
   "cell_type": "code",
   "execution_count": 5,
   "metadata": {},
   "outputs": [
    {
     "name": "stdout",
     "output_type": "stream",
     "text": [
      "780 minutes is equal to:  13.0  hours\n"
     ]
    }
   ],
   "source": [
    "mins = 780\n",
    "min2h = mins/60\n",
    "print(f\"{mins} minutes is equal to: \", min2h, \" hours\")"
   ]
  },
  {
   "cell_type": "markdown",
   "metadata": {},
   "source": [
    "- objective 1\n",
    "- objective 2\n",
    "- objective 3"
   ]
  },
  {
   "cell_type": "markdown",
   "metadata": {},
   "source": [
    "** Mamareza Mirafzal **"
   ]
  },
  {
   "cell_type": "code",
   "execution_count": null,
   "metadata": {},
   "outputs": [],
   "source": []
  }
 ],
 "metadata": {
  "kernelspec": {
   "display_name": "Python",
   "language": "python",
   "name": "conda-env-python-py"
  },
  "language_info": {
   "codemirror_mode": {
    "name": "ipython",
    "version": 3
   },
   "file_extension": ".py",
   "mimetype": "text/x-python",
   "name": "python",
   "nbconvert_exporter": "python",
   "pygments_lexer": "ipython3",
   "version": "3.7.12"
  }
 },
 "nbformat": 4,
 "nbformat_minor": 4
}
